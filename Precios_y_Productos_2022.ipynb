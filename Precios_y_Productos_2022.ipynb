{
  "nbformat": 4,
  "nbformat_minor": 0,
  "metadata": {
    "colab": {
      "provenance": [],
      "include_colab_link": true
    },
    "kernelspec": {
      "name": "python3",
      "display_name": "Python 3"
    },
    "language_info": {
      "name": "python"
    }
  },
  "cells": [
    {
      "cell_type": "markdown",
      "metadata": {
        "id": "view-in-github",
        "colab_type": "text"
      },
      "source": [
        "<a href=\"https://colab.research.google.com/github/pauarmentaa/Mapas-de-calor-y-boxplots/blob/main/Precios_y_Productos_2022.ipynb\" target=\"_parent\"><img src=\"https://colab.research.google.com/assets/colab-badge.svg\" alt=\"Open In Colab\"/></a>"
      ]
    },
    {
      "cell_type": "code",
      "execution_count": null,
      "metadata": {
        "id": "R-tov_GDHsgg"
      },
      "outputs": [],
      "source": [
        "#IMPORTAMOS LAS LIBRERIAS QUE VAMOS A OCUPAR\n",
        "import pandas as pd \n",
        "import seaborn as sns\n",
        "import matplotlib.pyplot as plt"
      ]
    },
    {
      "cell_type": "code",
      "source": [
        "#CARGAMOS NUESTRO ARCHIVO Y LO LEEMOS\n",
        "precios = pd.read_excel(\"precios_productos_2022.xlsx\")\n",
        "precios.head(2)"
      ],
      "metadata": {
        "colab": {
          "base_uri": "https://localhost:8080/",
          "height": 246
        },
        "id": "nz1YKuJBH3j2",
        "outputId": "a4819dbc-9b9f-4d23-bcab-c0b506638992"
      },
      "execution_count": null,
      "outputs": [
        {
          "output_type": "execute_result",
          "data": {
            "text/plain": [
              "  CVE_DOC  FECHA_DOC            NOMBRE_VENDEDOR                NOMBRE_CLIENTE  \\\n",
              "0  F37034 2022-01-05  LETICIA RAMIREZ HERNANDEZ            PÚBLICO EN GENERAL   \n",
              "1  F37036 2022-01-05  LETICIA RAMIREZ HERNANDEZ  JUAN ANTONIO RESENDIZ UGALDE   \n",
              "\n",
              "   CANT   CVE_ART                                    DESCR  PRECIO_UNITARIO  \\\n",
              "0     1  TUE00244  TUB COBRE 5/16\"ØX165MM CIRCULA1.5KW127V           434.48   \n",
              "1     1  TUA00028  TUA U\" 5/16 ØX250MM 1200W 120V TAP1\"NPT          1264.05   \n",
              "\n",
              "   COSTO_UNITARIO  COSTO_UNITARIO_CALCULADO  SUBTOTAL_PARTIDA  \\\n",
              "0           52.80                     52.80            434.48   \n",
              "1          327.18                    327.18           1264.05   \n",
              "\n",
              "   COSTO_TOTAL_CALCULADO  MARGEN_UNITARIO_CALCULADO  MARGEN_TOTAL_CALCULADO  \n",
              "0                  52.80                     381.68                  381.68  \n",
              "1                 327.18                     936.87                  936.87  "
            ],
            "text/html": [
              "\n",
              "  <div id=\"df-3eaa7a2c-4ee4-47c3-965e-9b017e773385\">\n",
              "    <div class=\"colab-df-container\">\n",
              "      <div>\n",
              "<style scoped>\n",
              "    .dataframe tbody tr th:only-of-type {\n",
              "        vertical-align: middle;\n",
              "    }\n",
              "\n",
              "    .dataframe tbody tr th {\n",
              "        vertical-align: top;\n",
              "    }\n",
              "\n",
              "    .dataframe thead th {\n",
              "        text-align: right;\n",
              "    }\n",
              "</style>\n",
              "<table border=\"1\" class=\"dataframe\">\n",
              "  <thead>\n",
              "    <tr style=\"text-align: right;\">\n",
              "      <th></th>\n",
              "      <th>CVE_DOC</th>\n",
              "      <th>FECHA_DOC</th>\n",
              "      <th>NOMBRE_VENDEDOR</th>\n",
              "      <th>NOMBRE_CLIENTE</th>\n",
              "      <th>CANT</th>\n",
              "      <th>CVE_ART</th>\n",
              "      <th>DESCR</th>\n",
              "      <th>PRECIO_UNITARIO</th>\n",
              "      <th>COSTO_UNITARIO</th>\n",
              "      <th>COSTO_UNITARIO_CALCULADO</th>\n",
              "      <th>SUBTOTAL_PARTIDA</th>\n",
              "      <th>COSTO_TOTAL_CALCULADO</th>\n",
              "      <th>MARGEN_UNITARIO_CALCULADO</th>\n",
              "      <th>MARGEN_TOTAL_CALCULADO</th>\n",
              "    </tr>\n",
              "  </thead>\n",
              "  <tbody>\n",
              "    <tr>\n",
              "      <th>0</th>\n",
              "      <td>F37034</td>\n",
              "      <td>2022-01-05</td>\n",
              "      <td>LETICIA RAMIREZ HERNANDEZ</td>\n",
              "      <td>PÚBLICO EN GENERAL</td>\n",
              "      <td>1</td>\n",
              "      <td>TUE00244</td>\n",
              "      <td>TUB COBRE 5/16\"ØX165MM CIRCULA1.5KW127V</td>\n",
              "      <td>434.48</td>\n",
              "      <td>52.80</td>\n",
              "      <td>52.80</td>\n",
              "      <td>434.48</td>\n",
              "      <td>52.80</td>\n",
              "      <td>381.68</td>\n",
              "      <td>381.68</td>\n",
              "    </tr>\n",
              "    <tr>\n",
              "      <th>1</th>\n",
              "      <td>F37036</td>\n",
              "      <td>2022-01-05</td>\n",
              "      <td>LETICIA RAMIREZ HERNANDEZ</td>\n",
              "      <td>JUAN ANTONIO RESENDIZ UGALDE</td>\n",
              "      <td>1</td>\n",
              "      <td>TUA00028</td>\n",
              "      <td>TUA U\" 5/16 ØX250MM 1200W 120V TAP1\"NPT</td>\n",
              "      <td>1264.05</td>\n",
              "      <td>327.18</td>\n",
              "      <td>327.18</td>\n",
              "      <td>1264.05</td>\n",
              "      <td>327.18</td>\n",
              "      <td>936.87</td>\n",
              "      <td>936.87</td>\n",
              "    </tr>\n",
              "  </tbody>\n",
              "</table>\n",
              "</div>\n",
              "      <button class=\"colab-df-convert\" onclick=\"convertToInteractive('df-3eaa7a2c-4ee4-47c3-965e-9b017e773385')\"\n",
              "              title=\"Convert this dataframe to an interactive table.\"\n",
              "              style=\"display:none;\">\n",
              "        \n",
              "  <svg xmlns=\"http://www.w3.org/2000/svg\" height=\"24px\"viewBox=\"0 0 24 24\"\n",
              "       width=\"24px\">\n",
              "    <path d=\"M0 0h24v24H0V0z\" fill=\"none\"/>\n",
              "    <path d=\"M18.56 5.44l.94 2.06.94-2.06 2.06-.94-2.06-.94-.94-2.06-.94 2.06-2.06.94zm-11 1L8.5 8.5l.94-2.06 2.06-.94-2.06-.94L8.5 2.5l-.94 2.06-2.06.94zm10 10l.94 2.06.94-2.06 2.06-.94-2.06-.94-.94-2.06-.94 2.06-2.06.94z\"/><path d=\"M17.41 7.96l-1.37-1.37c-.4-.4-.92-.59-1.43-.59-.52 0-1.04.2-1.43.59L10.3 9.45l-7.72 7.72c-.78.78-.78 2.05 0 2.83L4 21.41c.39.39.9.59 1.41.59.51 0 1.02-.2 1.41-.59l7.78-7.78 2.81-2.81c.8-.78.8-2.07 0-2.86zM5.41 20L4 18.59l7.72-7.72 1.47 1.35L5.41 20z\"/>\n",
              "  </svg>\n",
              "      </button>\n",
              "      \n",
              "  <style>\n",
              "    .colab-df-container {\n",
              "      display:flex;\n",
              "      flex-wrap:wrap;\n",
              "      gap: 12px;\n",
              "    }\n",
              "\n",
              "    .colab-df-convert {\n",
              "      background-color: #E8F0FE;\n",
              "      border: none;\n",
              "      border-radius: 50%;\n",
              "      cursor: pointer;\n",
              "      display: none;\n",
              "      fill: #1967D2;\n",
              "      height: 32px;\n",
              "      padding: 0 0 0 0;\n",
              "      width: 32px;\n",
              "    }\n",
              "\n",
              "    .colab-df-convert:hover {\n",
              "      background-color: #E2EBFA;\n",
              "      box-shadow: 0px 1px 2px rgba(60, 64, 67, 0.3), 0px 1px 3px 1px rgba(60, 64, 67, 0.15);\n",
              "      fill: #174EA6;\n",
              "    }\n",
              "\n",
              "    [theme=dark] .colab-df-convert {\n",
              "      background-color: #3B4455;\n",
              "      fill: #D2E3FC;\n",
              "    }\n",
              "\n",
              "    [theme=dark] .colab-df-convert:hover {\n",
              "      background-color: #434B5C;\n",
              "      box-shadow: 0px 1px 3px 1px rgba(0, 0, 0, 0.15);\n",
              "      filter: drop-shadow(0px 1px 2px rgba(0, 0, 0, 0.3));\n",
              "      fill: #FFFFFF;\n",
              "    }\n",
              "  </style>\n",
              "\n",
              "      <script>\n",
              "        const buttonEl =\n",
              "          document.querySelector('#df-3eaa7a2c-4ee4-47c3-965e-9b017e773385 button.colab-df-convert');\n",
              "        buttonEl.style.display =\n",
              "          google.colab.kernel.accessAllowed ? 'block' : 'none';\n",
              "\n",
              "        async function convertToInteractive(key) {\n",
              "          const element = document.querySelector('#df-3eaa7a2c-4ee4-47c3-965e-9b017e773385');\n",
              "          const dataTable =\n",
              "            await google.colab.kernel.invokeFunction('convertToInteractive',\n",
              "                                                     [key], {});\n",
              "          if (!dataTable) return;\n",
              "\n",
              "          const docLinkHtml = 'Like what you see? Visit the ' +\n",
              "            '<a target=\"_blank\" href=https://colab.research.google.com/notebooks/data_table.ipynb>data table notebook</a>'\n",
              "            + ' to learn more about interactive tables.';\n",
              "          element.innerHTML = '';\n",
              "          dataTable['output_type'] = 'display_data';\n",
              "          await google.colab.output.renderOutput(dataTable, element);\n",
              "          const docLink = document.createElement('div');\n",
              "          docLink.innerHTML = docLinkHtml;\n",
              "          element.appendChild(docLink);\n",
              "        }\n",
              "      </script>\n",
              "    </div>\n",
              "  </div>\n",
              "  "
            ]
          },
          "metadata": {},
          "execution_count": 19
        }
      ]
    },
    {
      "cell_type": "code",
      "source": [
        "#OPTENEMOS INFROMACION DEL DATAFRAME\n",
        "precios.info()"
      ],
      "metadata": {
        "colab": {
          "base_uri": "https://localhost:8080/"
        },
        "id": "HoyVYUt2IbaY",
        "outputId": "3fbb4512-7c66-4f6b-93eb-801fafdb0ca6"
      },
      "execution_count": null,
      "outputs": [
        {
          "output_type": "stream",
          "name": "stdout",
          "text": [
            "<class 'pandas.core.frame.DataFrame'>\n",
            "RangeIndex: 1426 entries, 0 to 1425\n",
            "Data columns (total 14 columns):\n",
            " #   Column                     Non-Null Count  Dtype         \n",
            "---  ------                     --------------  -----         \n",
            " 0   CVE_DOC                    1426 non-null   object        \n",
            " 1   FECHA_DOC                  1426 non-null   datetime64[ns]\n",
            " 2   NOMBRE_VENDEDOR            1424 non-null   object        \n",
            " 3   NOMBRE_CLIENTE             1426 non-null   object        \n",
            " 4   CANT                       1426 non-null   int64         \n",
            " 5   CVE_ART                    1426 non-null   object        \n",
            " 6   DESCR                      1426 non-null   object        \n",
            " 7   PRECIO_UNITARIO            1426 non-null   float64       \n",
            " 8   COSTO_UNITARIO             1426 non-null   float64       \n",
            " 9   COSTO_UNITARIO_CALCULADO   1426 non-null   float64       \n",
            " 10  SUBTOTAL_PARTIDA           1426 non-null   float64       \n",
            " 11  COSTO_TOTAL_CALCULADO      1426 non-null   float64       \n",
            " 12  MARGEN_UNITARIO_CALCULADO  1426 non-null   float64       \n",
            " 13  MARGEN_TOTAL_CALCULADO     1426 non-null   float64       \n",
            "dtypes: datetime64[ns](1), float64(7), int64(1), object(5)\n",
            "memory usage: 156.1+ KB\n"
          ]
        }
      ]
    },
    {
      "cell_type": "code",
      "source": [
        "#COMPROBAMOS LA EXISTENCIA DE DATOS NULOS EN NUESTRO DATAFRAME\n",
        "precios.isna().sum()"
      ],
      "metadata": {
        "colab": {
          "base_uri": "https://localhost:8080/"
        },
        "id": "O4CRwtP7IeD3",
        "outputId": "6b4506fb-176e-409e-d5fc-55fc4d99a701"
      },
      "execution_count": null,
      "outputs": [
        {
          "output_type": "execute_result",
          "data": {
            "text/plain": [
              "CVE_DOC                      0\n",
              "FECHA_DOC                    0\n",
              "NOMBRE_VENDEDOR              2\n",
              "NOMBRE_CLIENTE               0\n",
              "CANT                         0\n",
              "CVE_ART                      0\n",
              "DESCR                        0\n",
              "PRECIO_UNITARIO              0\n",
              "COSTO_UNITARIO               0\n",
              "COSTO_UNITARIO_CALCULADO     0\n",
              "SUBTOTAL_PARTIDA             0\n",
              "COSTO_TOTAL_CALCULADO        0\n",
              "MARGEN_UNITARIO_CALCULADO    0\n",
              "MARGEN_TOTAL_CALCULADO       0\n",
              "dtype: int64"
            ]
          },
          "metadata": {},
          "execution_count": 21
        }
      ]
    },
    {
      "cell_type": "code",
      "source": [
        "#ENCONTRAMOS DOS DATOS NULOS EN LA COLUMNA NOMBRE_VENDEDOR, \n",
        "\n",
        "#PROCEDEMOS A REEMPLAZAR ESOS VALORES NULOS POR DESCONOCIDO\n",
        "precios['NOMBRE_VENDEDOR'].fillna('Desconocido', inplace=True)\n",
        "\n",
        "#VOLVEMOS A IMPRIMIR NUESTRO DATAFRAME\n",
        "precios.head(2)"
      ],
      "metadata": {
        "colab": {
          "base_uri": "https://localhost:8080/",
          "height": 246
        },
        "id": "ZFCn827eJeA7",
        "outputId": "46afc899-cb17-4671-9afd-5d8719b9220a"
      },
      "execution_count": null,
      "outputs": [
        {
          "output_type": "execute_result",
          "data": {
            "text/plain": [
              "  CVE_DOC  FECHA_DOC            NOMBRE_VENDEDOR                NOMBRE_CLIENTE  \\\n",
              "0  F37034 2022-01-05  LETICIA RAMIREZ HERNANDEZ            PÚBLICO EN GENERAL   \n",
              "1  F37036 2022-01-05  LETICIA RAMIREZ HERNANDEZ  JUAN ANTONIO RESENDIZ UGALDE   \n",
              "\n",
              "   CANT   CVE_ART                                    DESCR  PRECIO_UNITARIO  \\\n",
              "0     1  TUE00244  TUB COBRE 5/16\"ØX165MM CIRCULA1.5KW127V           434.48   \n",
              "1     1  TUA00028  TUA U\" 5/16 ØX250MM 1200W 120V TAP1\"NPT          1264.05   \n",
              "\n",
              "   COSTO_UNITARIO  COSTO_UNITARIO_CALCULADO  SUBTOTAL_PARTIDA  \\\n",
              "0           52.80                     52.80            434.48   \n",
              "1          327.18                    327.18           1264.05   \n",
              "\n",
              "   COSTO_TOTAL_CALCULADO  MARGEN_UNITARIO_CALCULADO  MARGEN_TOTAL_CALCULADO  \n",
              "0                  52.80                     381.68                  381.68  \n",
              "1                 327.18                     936.87                  936.87  "
            ],
            "text/html": [
              "\n",
              "  <div id=\"df-f997ce5a-12cb-43dd-bf3d-87cd9477d680\">\n",
              "    <div class=\"colab-df-container\">\n",
              "      <div>\n",
              "<style scoped>\n",
              "    .dataframe tbody tr th:only-of-type {\n",
              "        vertical-align: middle;\n",
              "    }\n",
              "\n",
              "    .dataframe tbody tr th {\n",
              "        vertical-align: top;\n",
              "    }\n",
              "\n",
              "    .dataframe thead th {\n",
              "        text-align: right;\n",
              "    }\n",
              "</style>\n",
              "<table border=\"1\" class=\"dataframe\">\n",
              "  <thead>\n",
              "    <tr style=\"text-align: right;\">\n",
              "      <th></th>\n",
              "      <th>CVE_DOC</th>\n",
              "      <th>FECHA_DOC</th>\n",
              "      <th>NOMBRE_VENDEDOR</th>\n",
              "      <th>NOMBRE_CLIENTE</th>\n",
              "      <th>CANT</th>\n",
              "      <th>CVE_ART</th>\n",
              "      <th>DESCR</th>\n",
              "      <th>PRECIO_UNITARIO</th>\n",
              "      <th>COSTO_UNITARIO</th>\n",
              "      <th>COSTO_UNITARIO_CALCULADO</th>\n",
              "      <th>SUBTOTAL_PARTIDA</th>\n",
              "      <th>COSTO_TOTAL_CALCULADO</th>\n",
              "      <th>MARGEN_UNITARIO_CALCULADO</th>\n",
              "      <th>MARGEN_TOTAL_CALCULADO</th>\n",
              "    </tr>\n",
              "  </thead>\n",
              "  <tbody>\n",
              "    <tr>\n",
              "      <th>0</th>\n",
              "      <td>F37034</td>\n",
              "      <td>2022-01-05</td>\n",
              "      <td>LETICIA RAMIREZ HERNANDEZ</td>\n",
              "      <td>PÚBLICO EN GENERAL</td>\n",
              "      <td>1</td>\n",
              "      <td>TUE00244</td>\n",
              "      <td>TUB COBRE 5/16\"ØX165MM CIRCULA1.5KW127V</td>\n",
              "      <td>434.48</td>\n",
              "      <td>52.80</td>\n",
              "      <td>52.80</td>\n",
              "      <td>434.48</td>\n",
              "      <td>52.80</td>\n",
              "      <td>381.68</td>\n",
              "      <td>381.68</td>\n",
              "    </tr>\n",
              "    <tr>\n",
              "      <th>1</th>\n",
              "      <td>F37036</td>\n",
              "      <td>2022-01-05</td>\n",
              "      <td>LETICIA RAMIREZ HERNANDEZ</td>\n",
              "      <td>JUAN ANTONIO RESENDIZ UGALDE</td>\n",
              "      <td>1</td>\n",
              "      <td>TUA00028</td>\n",
              "      <td>TUA U\" 5/16 ØX250MM 1200W 120V TAP1\"NPT</td>\n",
              "      <td>1264.05</td>\n",
              "      <td>327.18</td>\n",
              "      <td>327.18</td>\n",
              "      <td>1264.05</td>\n",
              "      <td>327.18</td>\n",
              "      <td>936.87</td>\n",
              "      <td>936.87</td>\n",
              "    </tr>\n",
              "  </tbody>\n",
              "</table>\n",
              "</div>\n",
              "      <button class=\"colab-df-convert\" onclick=\"convertToInteractive('df-f997ce5a-12cb-43dd-bf3d-87cd9477d680')\"\n",
              "              title=\"Convert this dataframe to an interactive table.\"\n",
              "              style=\"display:none;\">\n",
              "        \n",
              "  <svg xmlns=\"http://www.w3.org/2000/svg\" height=\"24px\"viewBox=\"0 0 24 24\"\n",
              "       width=\"24px\">\n",
              "    <path d=\"M0 0h24v24H0V0z\" fill=\"none\"/>\n",
              "    <path d=\"M18.56 5.44l.94 2.06.94-2.06 2.06-.94-2.06-.94-.94-2.06-.94 2.06-2.06.94zm-11 1L8.5 8.5l.94-2.06 2.06-.94-2.06-.94L8.5 2.5l-.94 2.06-2.06.94zm10 10l.94 2.06.94-2.06 2.06-.94-2.06-.94-.94-2.06-.94 2.06-2.06.94z\"/><path d=\"M17.41 7.96l-1.37-1.37c-.4-.4-.92-.59-1.43-.59-.52 0-1.04.2-1.43.59L10.3 9.45l-7.72 7.72c-.78.78-.78 2.05 0 2.83L4 21.41c.39.39.9.59 1.41.59.51 0 1.02-.2 1.41-.59l7.78-7.78 2.81-2.81c.8-.78.8-2.07 0-2.86zM5.41 20L4 18.59l7.72-7.72 1.47 1.35L5.41 20z\"/>\n",
              "  </svg>\n",
              "      </button>\n",
              "      \n",
              "  <style>\n",
              "    .colab-df-container {\n",
              "      display:flex;\n",
              "      flex-wrap:wrap;\n",
              "      gap: 12px;\n",
              "    }\n",
              "\n",
              "    .colab-df-convert {\n",
              "      background-color: #E8F0FE;\n",
              "      border: none;\n",
              "      border-radius: 50%;\n",
              "      cursor: pointer;\n",
              "      display: none;\n",
              "      fill: #1967D2;\n",
              "      height: 32px;\n",
              "      padding: 0 0 0 0;\n",
              "      width: 32px;\n",
              "    }\n",
              "\n",
              "    .colab-df-convert:hover {\n",
              "      background-color: #E2EBFA;\n",
              "      box-shadow: 0px 1px 2px rgba(60, 64, 67, 0.3), 0px 1px 3px 1px rgba(60, 64, 67, 0.15);\n",
              "      fill: #174EA6;\n",
              "    }\n",
              "\n",
              "    [theme=dark] .colab-df-convert {\n",
              "      background-color: #3B4455;\n",
              "      fill: #D2E3FC;\n",
              "    }\n",
              "\n",
              "    [theme=dark] .colab-df-convert:hover {\n",
              "      background-color: #434B5C;\n",
              "      box-shadow: 0px 1px 3px 1px rgba(0, 0, 0, 0.15);\n",
              "      filter: drop-shadow(0px 1px 2px rgba(0, 0, 0, 0.3));\n",
              "      fill: #FFFFFF;\n",
              "    }\n",
              "  </style>\n",
              "\n",
              "      <script>\n",
              "        const buttonEl =\n",
              "          document.querySelector('#df-f997ce5a-12cb-43dd-bf3d-87cd9477d680 button.colab-df-convert');\n",
              "        buttonEl.style.display =\n",
              "          google.colab.kernel.accessAllowed ? 'block' : 'none';\n",
              "\n",
              "        async function convertToInteractive(key) {\n",
              "          const element = document.querySelector('#df-f997ce5a-12cb-43dd-bf3d-87cd9477d680');\n",
              "          const dataTable =\n",
              "            await google.colab.kernel.invokeFunction('convertToInteractive',\n",
              "                                                     [key], {});\n",
              "          if (!dataTable) return;\n",
              "\n",
              "          const docLinkHtml = 'Like what you see? Visit the ' +\n",
              "            '<a target=\"_blank\" href=https://colab.research.google.com/notebooks/data_table.ipynb>data table notebook</a>'\n",
              "            + ' to learn more about interactive tables.';\n",
              "          element.innerHTML = '';\n",
              "          dataTable['output_type'] = 'display_data';\n",
              "          await google.colab.output.renderOutput(dataTable, element);\n",
              "          const docLink = document.createElement('div');\n",
              "          docLink.innerHTML = docLinkHtml;\n",
              "          element.appendChild(docLink);\n",
              "        }\n",
              "      </script>\n",
              "    </div>\n",
              "  </div>\n",
              "  "
            ]
          },
          "metadata": {},
          "execution_count": 22
        }
      ]
    },
    {
      "cell_type": "code",
      "source": [
        "#CORROBORAMOS QUE YA NO EXISTAN DATOS NULOS\n",
        "precios.isna().sum()"
      ],
      "metadata": {
        "colab": {
          "base_uri": "https://localhost:8080/"
        },
        "id": "0kjBb26-Jn1-",
        "outputId": "cda83925-ec34-4ff7-d2f8-1e4c2b285d25"
      },
      "execution_count": null,
      "outputs": [
        {
          "output_type": "execute_result",
          "data": {
            "text/plain": [
              "CVE_DOC                      0\n",
              "FECHA_DOC                    0\n",
              "NOMBRE_VENDEDOR              0\n",
              "NOMBRE_CLIENTE               0\n",
              "CANT                         0\n",
              "CVE_ART                      0\n",
              "DESCR                        0\n",
              "PRECIO_UNITARIO              0\n",
              "COSTO_UNITARIO               0\n",
              "COSTO_UNITARIO_CALCULADO     0\n",
              "SUBTOTAL_PARTIDA             0\n",
              "COSTO_TOTAL_CALCULADO        0\n",
              "MARGEN_UNITARIO_CALCULADO    0\n",
              "MARGEN_TOTAL_CALCULADO       0\n",
              "dtype: int64"
            ]
          },
          "metadata": {},
          "execution_count": 23
        }
      ]
    },
    {
      "cell_type": "markdown",
      "source": [
        "#**diagramas de cajas y bigotes, histogramas y mapas de calor.**"
      ],
      "metadata": {
        "id": "1ENPG8C2UElx"
      }
    },
    {
      "cell_type": "code",
      "source": [
        "#VARIABLEs COSTO\n",
        "\n",
        "#VARIABLES A UTILIZAR\n",
        "variables = ['COSTO_UNITARIO_CALCULADO', 'COSTO_TOTAL_CALCULADO', 'MARGEN_TOTAL_CALCULADO']\n",
        "\n",
        "#CREAMOS NUESTRO DIAGRAMA\n",
        "sns.boxplot(data=precios[variables])\n",
        "\n",
        "# ROTAMOS LOS NOMBRES DEL EJE A 90° GRADOS\n",
        "plt.xticks(rotation=90)\n",
        "\n",
        "#PONEMOS TITULO AL GRAFICO\n",
        "\n",
        "plt.title('Diagrama de Cajas y Bigotes')\n",
        "\n",
        "#MOSTRAMOS NUESTRO GRAFICO\n",
        "plt.show()"
      ],
      "metadata": {
        "colab": {
          "base_uri": "https://localhost:8080/",
          "height": 653
        },
        "id": "e4W6atV5JykM",
        "outputId": "de02376b-ecde-4ff0-f729-6f4a6b5e4ce4"
      },
      "execution_count": null,
      "outputs": [
        {
          "output_type": "display_data",
          "data": {
            "text/plain": [
              "<Figure size 640x480 with 1 Axes>"
            ],
            "image/png": "[encoded data removed]"
          },
          "metadata": {}
        }
      ]
    },
    {
      "cell_type": "code",
      "source": [
        "#REALIZAMOS UN DIAGRAMA DE CAJA PARA LA COLUMA SUBTOTAL_PARTIDA\n",
        "sns.boxplot(x=\"SUBTOTAL_PARTIDA\",data=precios)"
      ],
      "metadata": {
        "colab": {
          "base_uri": "https://localhost:8080/",
          "height": 466
        },
        "id": "bW632rN7YqHW",
        "outputId": "59d829f9-e465-4a33-c10e-2f51856968b5"
      },
      "execution_count": null,
      "outputs": [
        {
          "output_type": "execute_result",
          "data": {
            "text/plain": [
              "<Axes: xlabel='SUBTOTAL_PARTIDA'>"
            ]
          },
          "metadata": {},
          "execution_count": 25
        },
        {
          "output_type": "display_data",
          "data": {
            "text/plain": [
              "<Figure size 640x480 with 1 Axes>"
            ],
            "image/png": "[encoded data removed]"
          },
          "metadata": {}
        }
      ]
    },
    {
      "cell_type": "code",
      "source": [
        "#MAPA DE COLOR PARA MOSTRA LA CORRWLACION ENTRE EL COSTO TOTAL Y EL MARGEN TOTAL\n",
        "\n",
        "#SELECCION DE VARIBLES O COLUMNAS \n",
        "\n",
        "variables = ['COSTO_TOTAL_CALCULADO', 'MARGEN_TOTAL_CALCULADO']\n",
        "fact_selected = precios[variables]\n",
        "\n",
        "#CALCULAR LA MATRIZ DE CORRELACION \n",
        "correlation_matrix = fact_selected.corr()\n",
        "\n",
        "#CREAMOS NUESTRO MAPA DE COLOR\n",
        "plt.figure(figsize=(8, 6))\n",
        "sns.heatmap(correlation_matrix, annot=True, cmap='magma', linewidths=0.5)\n",
        "plt.title('Matriz de correlación')\n",
        "plt.show()"
      ],
      "metadata": {
        "colab": {
          "base_uri": "https://localhost:8080/",
          "height": 545
        },
        "id": "NPXW3BORLq8J",
        "outputId": "6e1617a1-78d8-46a3-827f-c4597cbfc9be"
      },
      "execution_count": null,
      "outputs": [
        {
          "output_type": "display_data",
          "data": {
            "text/plain": [
              "<Figure size 800x600 with 2 Axes>"
            ],
            "image/png": "[encoded data removed]"
          },
          "metadata": {}
        }
      ]
    }
  ]
}