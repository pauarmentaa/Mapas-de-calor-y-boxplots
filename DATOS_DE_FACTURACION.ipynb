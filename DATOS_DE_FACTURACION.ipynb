{
  "nbformat": 4,
  "nbformat_minor": 0,
  "metadata": {
    "colab": {
      "provenance": [],
      "authorship_tag": "ABX9TyNa2ZWAwkkbWzqNxezLUlJZ",
      "include_colab_link": true
    },
    "kernelspec": {
      "name": "python3",
      "display_name": "Python 3"
    },
    "language_info": {
      "name": "python"
    }
  },
  "cells": [
    {
      "cell_type": "markdown",
      "metadata": {
        "id": "view-in-github",
        "colab_type": "text"
      },
      "source": [
        "<a href=\"https://colab.research.google.com/github/pauarmentaa/Mapas-de-calor-y-boxplots/blob/main/DATOS_DE_FACTURACION.ipynb\" target=\"_parent\"><img src=\"https://colab.research.google.com/assets/colab-badge.svg\" alt=\"Open In Colab\"/></a>"
      ]
    },
    {
      "cell_type": "markdown",
      "source": [
        "# **UF-6 Actividad Evaluable: Mapas de calor y boxplots**\n",
        "# **EQUIPO : TEAM 4 FANTASTIC**\n",
        "##**Integrantes del equipo:**\n",
        "###Abner Palma García - A01735312\n",
        "###Edwin Nepomuceno Rivera - A01174706\n",
        "###Luis Alberto Mirón Toruño - A01735489\n",
        "###Paula Gabriela Armenta Nazario - A01735618"
      ],
      "metadata": {
        "id": "H8cLhYfw1-f_"
      }
    },
    {
      "cell_type": "code",
      "execution_count": null,
      "metadata": {
        "id": "d17qX-3lGtZD"
      },
      "outputs": [],
      "source": [
        "# Cargar librerías \n",
        "import pandas as pd \n",
        "import seaborn as sns\n",
        "import matplotlib.pyplot as plt"
      ]
    },
    {
      "cell_type": "markdown",
      "source": [
        "## **ARCHIVO: DATOS DE FACTURACIÓN**"
      ],
      "metadata": {
        "id": "NAQfxWgU2K1L"
      }
    },
    {
      "cell_type": "code",
      "source": [
        "# Cargar el archivo a utilizar \n",
        "fact = pd.read_excel(\"Datos_Facturacion _sin_nulos.xlsx\")\n",
        "fact = fact.drop([\"Unnamed: 0\"], axis=1)\n",
        "fact"
      ],
      "metadata": {
        "colab": {
          "base_uri": "https://localhost:8080/",
          "height": 424
        },
        "id": "OCRnX5snH9o5",
        "outputId": "d5104fc7-83c1-4b95-9eff-3347efde5254"
      },
      "execution_count": null,
      "outputs": [
        {
          "output_type": "execute_result",
          "data": {
            "text/plain": [
              "      CVE_DOC  CVE_CLPV STATUS  CVE_VEND               FECHAELAB  FECHA_DOC  \\\n",
              "0      F29414      2465      C       1.0 2019-09-03 08:58:42.000 2019-09-03   \n",
              "1      F29415      3926      C       1.0 2019-09-03 09:55:14.000 2019-09-03   \n",
              "2      F29416      3926      C       1.0 2019-09-03 13:25:33.000 2019-09-03   \n",
              "3      F29417      3926      C       1.0 2019-09-03 13:33:23.000 2019-09-03   \n",
              "4      F29418      6813      C       2.0 2019-09-03 14:23:45.000 2019-09-03   \n",
              "...       ...       ...    ...       ...                     ...        ...   \n",
              "10890  F40306      8842      E       2.0 2023-03-06 16:09:39.013 2023-03-06   \n",
              "10891  F40307      6218      E       2.0 2023-03-06 16:38:42.933 2023-03-06   \n",
              "10892  F40308      5926      E       2.0 2023-03-06 17:02:33.390 2023-03-06   \n",
              "10893  F40309       361      E       2.0 2023-03-07 12:43:49.567 2023-03-07   \n",
              "10894  F40310      3011      E       2.0 2023-03-07 12:45:58.407 2023-03-07   \n",
              "\n",
              "                 FECHA_ENT  FECHA_VEN        FECHA_CANCELA  CAN_TOT  DES_TOT  \\\n",
              "0      2019-09-03 00:00:00 2019-09-18  2019-09-04 00:00:00  3980.00      0.0   \n",
              "1      2019-09-03 00:00:00 2019-10-03  2019-09-03 00:00:00  1550.00      0.0   \n",
              "2      2019-09-03 00:00:00 2019-10-03  2019-09-03 00:00:00  1550.00      0.0   \n",
              "3      2019-09-03 00:00:00 2019-10-03  2019-09-17 00:00:00  1550.00      0.0   \n",
              "4      2019-09-03 00:00:00 2019-09-03  2019-09-10 00:00:00  2435.44      0.0   \n",
              "...                    ...        ...                  ...      ...      ...   \n",
              "10890  2023-03-01 00:00:00 2023-03-06                    0  3272.00      0.0   \n",
              "10891  2023-03-06 00:00:00 2023-03-06                    0   504.15      0.0   \n",
              "10892  2023-03-06 00:00:00 2023-03-06                    0   275.68      0.0   \n",
              "10893  2023-03-07 00:00:00 2023-03-07                    0   129.30      0.0   \n",
              "10894  2023-03-01 00:00:00 2023-03-07                    0   517.20      0.0   \n",
              "\n",
              "       DES_FIN  \n",
              "0            0  \n",
              "1            0  \n",
              "2            0  \n",
              "3            0  \n",
              "4            0  \n",
              "...        ...  \n",
              "10890        0  \n",
              "10891        0  \n",
              "10892        0  \n",
              "10893        0  \n",
              "10894        0  \n",
              "\n",
              "[10895 rows x 12 columns]"
            ],
            "text/html": [
              "\n",
              "  <div id=\"df-d8e3b270-b83b-46c8-a37e-b6e92b7cead0\">\n",
              "    <div class=\"colab-df-container\">\n",
              "      <div>\n",
              "<style scoped>\n",
              "    .dataframe tbody tr th:only-of-type {\n",
              "        vertical-align: middle;\n",
              "    }\n",
              "\n",
              "    .dataframe tbody tr th {\n",
              "        vertical-align: top;\n",
              "    }\n",
              "\n",
              "    .dataframe thead th {\n",
              "        text-align: right;\n",
              "    }\n",
              "</style>\n",
              "<table border=\"1\" class=\"dataframe\">\n",
              "  <thead>\n",
              "    <tr style=\"text-align: right;\">\n",
              "      <th></th>\n",
              "      <th>CVE_DOC</th>\n",
              "      <th>CVE_CLPV</th>\n",
              "      <th>STATUS</th>\n",
              "      <th>CVE_VEND</th>\n",
              "      <th>FECHAELAB</th>\n",
              "      <th>FECHA_DOC</th>\n",
              "      <th>FECHA_ENT</th>\n",
              "      <th>FECHA_VEN</th>\n",
              "      <th>FECHA_CANCELA</th>\n",
              "      <th>CAN_TOT</th>\n",
              "      <th>DES_TOT</th>\n",
              "      <th>DES_FIN</th>\n",
              "    </tr>\n",
              "  </thead>\n",
              "  <tbody>\n",
              "    <tr>\n",
              "      <th>0</th>\n",
              "      <td>F29414</td>\n",
              "      <td>2465</td>\n",
              "      <td>C</td>\n",
              "      <td>1.0</td>\n",
              "      <td>2019-09-03 08:58:42.000</td>\n",
              "      <td>2019-09-03</td>\n",
              "      <td>2019-09-03 00:00:00</td>\n",
              "      <td>2019-09-18</td>\n",
              "      <td>2019-09-04 00:00:00</td>\n",
              "      <td>3980.00</td>\n",
              "      <td>0.0</td>\n",
              "      <td>0</td>\n",
              "    </tr>\n",
              "    <tr>\n",
              "      <th>1</th>\n",
              "      <td>F29415</td>\n",
              "      <td>3926</td>\n",
              "      <td>C</td>\n",
              "      <td>1.0</td>\n",
              "      <td>2019-09-03 09:55:14.000</td>\n",
              "      <td>2019-09-03</td>\n",
              "      <td>2019-09-03 00:00:00</td>\n",
              "      <td>2019-10-03</td>\n",
              "      <td>2019-09-03 00:00:00</td>\n",
              "      <td>1550.00</td>\n",
              "      <td>0.0</td>\n",
              "      <td>0</td>\n",
              "    </tr>\n",
              "    <tr>\n",
              "      <th>2</th>\n",
              "      <td>F29416</td>\n",
              "      <td>3926</td>\n",
              "      <td>C</td>\n",
              "      <td>1.0</td>\n",
              "      <td>2019-09-03 13:25:33.000</td>\n",
              "      <td>2019-09-03</td>\n",
              "      <td>2019-09-03 00:00:00</td>\n",
              "      <td>2019-10-03</td>\n",
              "      <td>2019-09-03 00:00:00</td>\n",
              "      <td>1550.00</td>\n",
              "      <td>0.0</td>\n",
              "      <td>0</td>\n",
              "    </tr>\n",
              "    <tr>\n",
              "      <th>3</th>\n",
              "      <td>F29417</td>\n",
              "      <td>3926</td>\n",
              "      <td>C</td>\n",
              "      <td>1.0</td>\n",
              "      <td>2019-09-03 13:33:23.000</td>\n",
              "      <td>2019-09-03</td>\n",
              "      <td>2019-09-03 00:00:00</td>\n",
              "      <td>2019-10-03</td>\n",
              "      <td>2019-09-17 00:00:00</td>\n",
              "      <td>1550.00</td>\n",
              "      <td>0.0</td>\n",
              "      <td>0</td>\n",
              "    </tr>\n",
              "    <tr>\n",
              "      <th>4</th>\n",
              "      <td>F29418</td>\n",
              "      <td>6813</td>\n",
              "      <td>C</td>\n",
              "      <td>2.0</td>\n",
              "      <td>2019-09-03 14:23:45.000</td>\n",
              "      <td>2019-09-03</td>\n",
              "      <td>2019-09-03 00:00:00</td>\n",
              "      <td>2019-09-03</td>\n",
              "      <td>2019-09-10 00:00:00</td>\n",
              "      <td>2435.44</td>\n",
              "      <td>0.0</td>\n",
              "      <td>0</td>\n",
              "    </tr>\n",
              "    <tr>\n",
              "      <th>...</th>\n",
              "      <td>...</td>\n",
              "      <td>...</td>\n",
              "      <td>...</td>\n",
              "      <td>...</td>\n",
              "      <td>...</td>\n",
              "      <td>...</td>\n",
              "      <td>...</td>\n",
              "      <td>...</td>\n",
              "      <td>...</td>\n",
              "      <td>...</td>\n",
              "      <td>...</td>\n",
              "      <td>...</td>\n",
              "    </tr>\n",
              "    <tr>\n",
              "      <th>10890</th>\n",
              "      <td>F40306</td>\n",
              "      <td>8842</td>\n",
              "      <td>E</td>\n",
              "      <td>2.0</td>\n",
              "      <td>2023-03-06 16:09:39.013</td>\n",
              "      <td>2023-03-06</td>\n",
              "      <td>2023-03-01 00:00:00</td>\n",
              "      <td>2023-03-06</td>\n",
              "      <td>0</td>\n",
              "      <td>3272.00</td>\n",
              "      <td>0.0</td>\n",
              "      <td>0</td>\n",
              "    </tr>\n",
              "    <tr>\n",
              "      <th>10891</th>\n",
              "      <td>F40307</td>\n",
              "      <td>6218</td>\n",
              "      <td>E</td>\n",
              "      <td>2.0</td>\n",
              "      <td>2023-03-06 16:38:42.933</td>\n",
              "      <td>2023-03-06</td>\n",
              "      <td>2023-03-06 00:00:00</td>\n",
              "      <td>2023-03-06</td>\n",
              "      <td>0</td>\n",
              "      <td>504.15</td>\n",
              "      <td>0.0</td>\n",
              "      <td>0</td>\n",
              "    </tr>\n",
              "    <tr>\n",
              "      <th>10892</th>\n",
              "      <td>F40308</td>\n",
              "      <td>5926</td>\n",
              "      <td>E</td>\n",
              "      <td>2.0</td>\n",
              "      <td>2023-03-06 17:02:33.390</td>\n",
              "      <td>2023-03-06</td>\n",
              "      <td>2023-03-06 00:00:00</td>\n",
              "      <td>2023-03-06</td>\n",
              "      <td>0</td>\n",
              "      <td>275.68</td>\n",
              "      <td>0.0</td>\n",
              "      <td>0</td>\n",
              "    </tr>\n",
              "    <tr>\n",
              "      <th>10893</th>\n",
              "      <td>F40309</td>\n",
              "      <td>361</td>\n",
              "      <td>E</td>\n",
              "      <td>2.0</td>\n",
              "      <td>2023-03-07 12:43:49.567</td>\n",
              "      <td>2023-03-07</td>\n",
              "      <td>2023-03-07 00:00:00</td>\n",
              "      <td>2023-03-07</td>\n",
              "      <td>0</td>\n",
              "      <td>129.30</td>\n",
              "      <td>0.0</td>\n",
              "      <td>0</td>\n",
              "    </tr>\n",
              "    <tr>\n",
              "      <th>10894</th>\n",
              "      <td>F40310</td>\n",
              "      <td>3011</td>\n",
              "      <td>E</td>\n",
              "      <td>2.0</td>\n",
              "      <td>2023-03-07 12:45:58.407</td>\n",
              "      <td>2023-03-07</td>\n",
              "      <td>2023-03-01 00:00:00</td>\n",
              "      <td>2023-03-07</td>\n",
              "      <td>0</td>\n",
              "      <td>517.20</td>\n",
              "      <td>0.0</td>\n",
              "      <td>0</td>\n",
              "    </tr>\n",
              "  </tbody>\n",
              "</table>\n",
              "<p>10895 rows × 12 columns</p>\n",
              "</div>\n",
              "      <button class=\"colab-df-convert\" onclick=\"convertToInteractive('df-d8e3b270-b83b-46c8-a37e-b6e92b7cead0')\"\n",
              "              title=\"Convert this dataframe to an interactive table.\"\n",
              "              style=\"display:none;\">\n",
              "        \n",
              "  <svg xmlns=\"http://www.w3.org/2000/svg\" height=\"24px\"viewBox=\"0 0 24 24\"\n",
              "       width=\"24px\">\n",
              "    <path d=\"M0 0h24v24H0V0z\" fill=\"none\"/>\n",
              "    <path d=\"M18.56 5.44l.94 2.06.94-2.06 2.06-.94-2.06-.94-.94-2.06-.94 2.06-2.06.94zm-11 1L8.5 8.5l.94-2.06 2.06-.94-2.06-.94L8.5 2.5l-.94 2.06-2.06.94zm10 10l.94 2.06.94-2.06 2.06-.94-2.06-.94-.94-2.06-.94 2.06-2.06.94z\"/><path d=\"M17.41 7.96l-1.37-1.37c-.4-.4-.92-.59-1.43-.59-.52 0-1.04.2-1.43.59L10.3 9.45l-7.72 7.72c-.78.78-.78 2.05 0 2.83L4 21.41c.39.39.9.59 1.41.59.51 0 1.02-.2 1.41-.59l7.78-7.78 2.81-2.81c.8-.78.8-2.07 0-2.86zM5.41 20L4 18.59l7.72-7.72 1.47 1.35L5.41 20z\"/>\n",
              "  </svg>\n",
              "      </button>\n",
              "      \n",
              "  <style>\n",
              "    .colab-df-container {\n",
              "      display:flex;\n",
              "      flex-wrap:wrap;\n",
              "      gap: 12px;\n",
              "    }\n",
              "\n",
              "    .colab-df-convert {\n",
              "      background-color: #E8F0FE;\n",
              "      border: none;\n",
              "      border-radius: 50%;\n",
              "      cursor: pointer;\n",
              "      display: none;\n",
              "      fill: #1967D2;\n",
              "      height: 32px;\n",
              "      padding: 0 0 0 0;\n",
              "      width: 32px;\n",
              "    }\n",
              "\n",
              "    .colab-df-convert:hover {\n",
              "      background-color: #E2EBFA;\n",
              "      box-shadow: 0px 1px 2px rgba(60, 64, 67, 0.3), 0px 1px 3px 1px rgba(60, 64, 67, 0.15);\n",
              "      fill: #174EA6;\n",
              "    }\n",
              "\n",
              "    [theme=dark] .colab-df-convert {\n",
              "      background-color: #3B4455;\n",
              "      fill: #D2E3FC;\n",
              "    }\n",
              "\n",
              "    [theme=dark] .colab-df-convert:hover {\n",
              "      background-color: #434B5C;\n",
              "      box-shadow: 0px 1px 3px 1px rgba(0, 0, 0, 0.15);\n",
              "      filter: drop-shadow(0px 1px 2px rgba(0, 0, 0, 0.3));\n",
              "      fill: #FFFFFF;\n",
              "    }\n",
              "  </style>\n",
              "\n",
              "      <script>\n",
              "        const buttonEl =\n",
              "          document.querySelector('#df-d8e3b270-b83b-46c8-a37e-b6e92b7cead0 button.colab-df-convert');\n",
              "        buttonEl.style.display =\n",
              "          google.colab.kernel.accessAllowed ? 'block' : 'none';\n",
              "\n",
              "        async function convertToInteractive(key) {\n",
              "          const element = document.querySelector('#df-d8e3b270-b83b-46c8-a37e-b6e92b7cead0');\n",
              "          const dataTable =\n",
              "            await google.colab.kernel.invokeFunction('convertToInteractive',\n",
              "                                                     [key], {});\n",
              "          if (!dataTable) return;\n",
              "\n",
              "          const docLinkHtml = 'Like what you see? Visit the ' +\n",
              "            '<a target=\"_blank\" href=https://colab.research.google.com/notebooks/data_table.ipynb>data table notebook</a>'\n",
              "            + ' to learn more about interactive tables.';\n",
              "          element.innerHTML = '';\n",
              "          dataTable['output_type'] = 'display_data';\n",
              "          await google.colab.output.renderOutput(dataTable, element);\n",
              "          const docLink = document.createElement('div');\n",
              "          docLink.innerHTML = docLinkHtml;\n",
              "          element.appendChild(docLink);\n",
              "        }\n",
              "      </script>\n",
              "    </div>\n",
              "  </div>\n",
              "  "
            ]
          },
          "metadata": {},
          "execution_count": 11
        }
      ]
    },
    {
      "cell_type": "markdown",
      "source": [
        "## Análisis descriptivo"
      ],
      "metadata": {
        "id": "t6IQ2nB1IKyR"
      }
    },
    {
      "cell_type": "code",
      "source": [
        "fact.info()"
      ],
      "metadata": {
        "colab": {
          "base_uri": "https://localhost:8080/"
        },
        "id": "tN8eWft2INAQ",
        "outputId": "9d9183f5-0352-4220-a877-4c6949e6e841"
      },
      "execution_count": null,
      "outputs": [
        {
          "output_type": "stream",
          "name": "stdout",
          "text": [
            "<class 'pandas.core.frame.DataFrame'>\n",
            "RangeIndex: 10895 entries, 0 to 10894\n",
            "Data columns (total 12 columns):\n",
            " #   Column         Non-Null Count  Dtype         \n",
            "---  ------         --------------  -----         \n",
            " 0   CVE_DOC        10895 non-null  object        \n",
            " 1   CVE_CLPV       10895 non-null  int64         \n",
            " 2   STATUS         10895 non-null  object        \n",
            " 3   CVE_VEND       10895 non-null  float64       \n",
            " 4   FECHAELAB      10895 non-null  datetime64[ns]\n",
            " 5   FECHA_DOC      10895 non-null  datetime64[ns]\n",
            " 6   FECHA_ENT      10895 non-null  object        \n",
            " 7   FECHA_VEN      10895 non-null  datetime64[ns]\n",
            " 8   FECHA_CANCELA  10895 non-null  object        \n",
            " 9   CAN_TOT        10895 non-null  float64       \n",
            " 10  DES_TOT        10895 non-null  float64       \n",
            " 11  DES_FIN        10895 non-null  int64         \n",
            "dtypes: datetime64[ns](3), float64(3), int64(2), object(4)\n",
            "memory usage: 1021.5+ KB\n"
          ]
        }
      ]
    },
    {
      "cell_type": "code",
      "source": [
        "# Verificamos la existencia de nulos \n",
        "fact.isna().sum()"
      ],
      "metadata": {
        "colab": {
          "base_uri": "https://localhost:8080/"
        },
        "id": "g7N9RaGEISPF",
        "outputId": "fde42788-b3e6-43d4-be8d-80e9170564f5"
      },
      "execution_count": null,
      "outputs": [
        {
          "output_type": "execute_result",
          "data": {
            "text/plain": [
              "CVE_DOC          0\n",
              "CVE_CLPV         0\n",
              "STATUS           0\n",
              "CVE_VEND         0\n",
              "FECHAELAB        0\n",
              "FECHA_DOC        0\n",
              "FECHA_ENT        0\n",
              "FECHA_VEN        0\n",
              "FECHA_CANCELA    0\n",
              "CAN_TOT          0\n",
              "DES_TOT          0\n",
              "DES_FIN          0\n",
              "dtype: int64"
            ]
          },
          "metadata": {},
          "execution_count": 4
        }
      ]
    },
    {
      "cell_type": "code",
      "source": [
        "fact.describe()"
      ],
      "metadata": {
        "colab": {
          "base_uri": "https://localhost:8080/",
          "height": 300
        },
        "id": "BcAHBlhEIWUF",
        "outputId": "e46f0eca-008c-4984-a357-85eb1a5ccd91"
      },
      "execution_count": null,
      "outputs": [
        {
          "output_type": "execute_result",
          "data": {
            "text/plain": [
              "           CVE_CLPV      CVE_VEND        CAN_TOT       DES_TOT  DES_FIN\n",
              "count  10895.000000  10895.000000   10895.000000  10895.000000  10895.0\n",
              "mean    5198.450757      2.362845    4516.729236     18.256612      0.0\n",
              "std     2438.597980      1.149040   11852.192620    435.939825      0.0\n",
              "min        0.000000      1.000000       1.000000      0.000000      0.0\n",
              "25%     3521.000000      2.000000     575.861000      0.000000      0.0\n",
              "50%     5926.000000      2.000000    1455.700000      0.000000      0.0\n",
              "75%     6839.000000      2.000000    3948.905000      0.000000      0.0\n",
              "max     9579.000000     12.000000  412116.920000  23386.950000      0.0"
            ],
            "text/html": [
              "\n",
              "  <div id=\"df-40b47e85-a0c0-420b-932c-704146a081af\">\n",
              "    <div class=\"colab-df-container\">\n",
              "      <div>\n",
              "<style scoped>\n",
              "    .dataframe tbody tr th:only-of-type {\n",
              "        vertical-align: middle;\n",
              "    }\n",
              "\n",
              "    .dataframe tbody tr th {\n",
              "        vertical-align: top;\n",
              "    }\n",
              "\n",
              "    .dataframe thead th {\n",
              "        text-align: right;\n",
              "    }\n",
              "</style>\n",
              "<table border=\"1\" class=\"dataframe\">\n",
              "  <thead>\n",
              "    <tr style=\"text-align: right;\">\n",
              "      <th></th>\n",
              "      <th>CVE_CLPV</th>\n",
              "      <th>CVE_VEND</th>\n",
              "      <th>CAN_TOT</th>\n",
              "      <th>DES_TOT</th>\n",
              "      <th>DES_FIN</th>\n",
              "    </tr>\n",
              "  </thead>\n",
              "  <tbody>\n",
              "    <tr>\n",
              "      <th>count</th>\n",
              "      <td>10895.000000</td>\n",
              "      <td>10895.000000</td>\n",
              "      <td>10895.000000</td>\n",
              "      <td>10895.000000</td>\n",
              "      <td>10895.0</td>\n",
              "    </tr>\n",
              "    <tr>\n",
              "      <th>mean</th>\n",
              "      <td>5198.450757</td>\n",
              "      <td>2.362845</td>\n",
              "      <td>4516.729236</td>\n",
              "      <td>18.256612</td>\n",
              "      <td>0.0</td>\n",
              "    </tr>\n",
              "    <tr>\n",
              "      <th>std</th>\n",
              "      <td>2438.597980</td>\n",
              "      <td>1.149040</td>\n",
              "      <td>11852.192620</td>\n",
              "      <td>435.939825</td>\n",
              "      <td>0.0</td>\n",
              "    </tr>\n",
              "    <tr>\n",
              "      <th>min</th>\n",
              "      <td>0.000000</td>\n",
              "      <td>1.000000</td>\n",
              "      <td>1.000000</td>\n",
              "      <td>0.000000</td>\n",
              "      <td>0.0</td>\n",
              "    </tr>\n",
              "    <tr>\n",
              "      <th>25%</th>\n",
              "      <td>3521.000000</td>\n",
              "      <td>2.000000</td>\n",
              "      <td>575.861000</td>\n",
              "      <td>0.000000</td>\n",
              "      <td>0.0</td>\n",
              "    </tr>\n",
              "    <tr>\n",
              "      <th>50%</th>\n",
              "      <td>5926.000000</td>\n",
              "      <td>2.000000</td>\n",
              "      <td>1455.700000</td>\n",
              "      <td>0.000000</td>\n",
              "      <td>0.0</td>\n",
              "    </tr>\n",
              "    <tr>\n",
              "      <th>75%</th>\n",
              "      <td>6839.000000</td>\n",
              "      <td>2.000000</td>\n",
              "      <td>3948.905000</td>\n",
              "      <td>0.000000</td>\n",
              "      <td>0.0</td>\n",
              "    </tr>\n",
              "    <tr>\n",
              "      <th>max</th>\n",
              "      <td>9579.000000</td>\n",
              "      <td>12.000000</td>\n",
              "      <td>412116.920000</td>\n",
              "      <td>23386.950000</td>\n",
              "      <td>0.0</td>\n",
              "    </tr>\n",
              "  </tbody>\n",
              "</table>\n",
              "</div>\n",
              "      <button class=\"colab-df-convert\" onclick=\"convertToInteractive('df-40b47e85-a0c0-420b-932c-704146a081af')\"\n",
              "              title=\"Convert this dataframe to an interactive table.\"\n",
              "              style=\"display:none;\">\n",
              "        \n",
              "  <svg xmlns=\"http://www.w3.org/2000/svg\" height=\"24px\"viewBox=\"0 0 24 24\"\n",
              "       width=\"24px\">\n",
              "    <path d=\"M0 0h24v24H0V0z\" fill=\"none\"/>\n",
              "    <path d=\"M18.56 5.44l.94 2.06.94-2.06 2.06-.94-2.06-.94-.94-2.06-.94 2.06-2.06.94zm-11 1L8.5 8.5l.94-2.06 2.06-.94-2.06-.94L8.5 2.5l-.94 2.06-2.06.94zm10 10l.94 2.06.94-2.06 2.06-.94-2.06-.94-.94-2.06-.94 2.06-2.06.94z\"/><path d=\"M17.41 7.96l-1.37-1.37c-.4-.4-.92-.59-1.43-.59-.52 0-1.04.2-1.43.59L10.3 9.45l-7.72 7.72c-.78.78-.78 2.05 0 2.83L4 21.41c.39.39.9.59 1.41.59.51 0 1.02-.2 1.41-.59l7.78-7.78 2.81-2.81c.8-.78.8-2.07 0-2.86zM5.41 20L4 18.59l7.72-7.72 1.47 1.35L5.41 20z\"/>\n",
              "  </svg>\n",
              "      </button>\n",
              "      \n",
              "  <style>\n",
              "    .colab-df-container {\n",
              "      display:flex;\n",
              "      flex-wrap:wrap;\n",
              "      gap: 12px;\n",
              "    }\n",
              "\n",
              "    .colab-df-convert {\n",
              "      background-color: #E8F0FE;\n",
              "      border: none;\n",
              "      border-radius: 50%;\n",
              "      cursor: pointer;\n",
              "      display: none;\n",
              "      fill: #1967D2;\n",
              "      height: 32px;\n",
              "      padding: 0 0 0 0;\n",
              "      width: 32px;\n",
              "    }\n",
              "\n",
              "    .colab-df-convert:hover {\n",
              "      background-color: #E2EBFA;\n",
              "      box-shadow: 0px 1px 2px rgba(60, 64, 67, 0.3), 0px 1px 3px 1px rgba(60, 64, 67, 0.15);\n",
              "      fill: #174EA6;\n",
              "    }\n",
              "\n",
              "    [theme=dark] .colab-df-convert {\n",
              "      background-color: #3B4455;\n",
              "      fill: #D2E3FC;\n",
              "    }\n",
              "\n",
              "    [theme=dark] .colab-df-convert:hover {\n",
              "      background-color: #434B5C;\n",
              "      box-shadow: 0px 1px 3px 1px rgba(0, 0, 0, 0.15);\n",
              "      filter: drop-shadow(0px 1px 2px rgba(0, 0, 0, 0.3));\n",
              "      fill: #FFFFFF;\n",
              "    }\n",
              "  </style>\n",
              "\n",
              "      <script>\n",
              "        const buttonEl =\n",
              "          document.querySelector('#df-40b47e85-a0c0-420b-932c-704146a081af button.colab-df-convert');\n",
              "        buttonEl.style.display =\n",
              "          google.colab.kernel.accessAllowed ? 'block' : 'none';\n",
              "\n",
              "        async function convertToInteractive(key) {\n",
              "          const element = document.querySelector('#df-40b47e85-a0c0-420b-932c-704146a081af');\n",
              "          const dataTable =\n",
              "            await google.colab.kernel.invokeFunction('convertToInteractive',\n",
              "                                                     [key], {});\n",
              "          if (!dataTable) return;\n",
              "\n",
              "          const docLinkHtml = 'Like what you see? Visit the ' +\n",
              "            '<a target=\"_blank\" href=https://colab.research.google.com/notebooks/data_table.ipynb>data table notebook</a>'\n",
              "            + ' to learn more about interactive tables.';\n",
              "          element.innerHTML = '';\n",
              "          dataTable['output_type'] = 'display_data';\n",
              "          await google.colab.output.renderOutput(dataTable, element);\n",
              "          const docLink = document.createElement('div');\n",
              "          docLink.innerHTML = docLinkHtml;\n",
              "          element.appendChild(docLink);\n",
              "        }\n",
              "      </script>\n",
              "    </div>\n",
              "  </div>\n",
              "  "
            ]
          },
          "metadata": {},
          "execution_count": 5
        }
      ]
    },
    {
      "cell_type": "markdown",
      "source": [
        "## **Diagrama de cajas y bigotes (Boxplot)**\n",
        ">El objetivo de este gráfico de diagrama de cajas y bigotes es visualizar la distribución y la variabilidad de las variables numéricas relacionadas con las facturas: CAN_TOT (monto total), DES_TOT (descuento total) y DES_FIN (descuento final).\n",
        "\n",
        ">El diagrama de cajas y bigotes muestra una representación gráfica de la mediana, los cuartiles y los valores atípicos de cada variable. Ayuda a identificar la dispersión y los valores extremos de los datos, proporcionando información sobre la distribución y la variabilidad de las variables."
      ],
      "metadata": {
        "id": "GR_49oruJgZJ"
      }
    },
    {
      "cell_type": "code",
      "source": [
        "import seaborn as sns\n",
        "import matplotlib.pyplot as plt\n",
        "# Variables numéricas a visualizar\n",
        "variables = ['CAN_TOT', 'DES_TOT', 'DES_FIN']\n",
        "# Crear el diagrama de cajas y bigotes con colores\n",
        "sns.boxplot(data=fact[variables])\n",
        "# Título del gráfico\n",
        "plt.title('Diagrama de Cajas y Bigotes de Variables Numéricas')\n",
        "# Mostrar el gráfico\n",
        "plt.show()"
      ],
      "metadata": {
        "colab": {
          "base_uri": "https://localhost:8080/",
          "height": 453
        },
        "id": "tDLO9YYMDeHc",
        "outputId": "04799041-2d17-4720-e8f6-ebf909454be2"
      },
      "execution_count": null,
      "outputs": [
        {
          "output_type": "display_data",
          "data": {
            "text/plain": [
              "<Figure size 640x480 with 1 Axes>"
            ],
            "image/png": "[encoded data removed]"
          },
          "metadata": {}
        }
      ]
    },
    {
      "cell_type": "markdown",
      "source": [
        "## **2do Diagrama de cajas y bigotes (Boxplot)**\n",
        ">El objetivo de este gráfico de barras apiladas es visualizar la distribución del monto total (CAN_TOT) de las facturas en función del estado de la factura (STATUS).Esto permitirá comparar visualmente la distribución de los montos totales en función del estado de las facturas.\n",
        "\n",
        ">Es importante destacar que el gráfico de barras apiladas no es la visualización más común para representar variables numéricas como el monto total. Sin embargo, en este caso, el gráfico mostrará la distribución de los montos totales dentro de cada estado de la factura, lo que puede ser útil para comparar la variabilidad y la dispersión de los montos en diferentes estados."
      ],
      "metadata": {
        "id": "mnIQ4K3jD8c1"
      }
    },
    {
      "cell_type": "code",
      "source": [
        "import seaborn as sns\n",
        "# Crear un gráfico de barras apiladas\n",
        "sns.boxplot(x='STATUS', y='CAN_TOT', data=fact)\n",
        "# Título del gráfico\n",
        "plt.title('Distribución de CAN_TOT por STATUS')\n",
        "# Mostrar el gráfico\n",
        "plt.show()"
      ],
      "metadata": {
        "colab": {
          "base_uri": "https://localhost:8080/",
          "height": 472
        },
        "id": "MjpQurR7Uvo4",
        "outputId": "51457c9c-1c9c-4297-c346-37d7bb05c3eb"
      },
      "execution_count": null,
      "outputs": [
        {
          "output_type": "display_data",
          "data": {
            "text/plain": [
              "<Figure size 640x480 with 1 Axes>"
            ],
            "image/png": "[encoded data removed]"
          },
          "metadata": {}
        }
      ]
    },
    {
      "cell_type": "markdown",
      "source": [
        "## **Histogramas**\n",
        ">El objetivo de esos histogramas separados por el estado (emitidas y canceladas) y por el año de la fecha de documento es visualizar y comparar las distribuciones de los montos totales (CAN_TOT) de las facturas en función de diferentes categorías.\n",
        "\n",
        ">Al separar los histogramas por el estado de las facturas, se puede observar cómo difieren las distribuciones de los montos totales entre las facturas emitidas y las canceladas. Esto puede ayudar a identificar patrones o diferencias significativas en los montos totales según el estado de la factura.Además, al separar los histogramas por el año de la fecha de documento, se puede analizar cómo ha evolucionado la distribución de los montos totales a lo largo del tiempo."
      ],
      "metadata": {
        "id": "77eyElTQKEku"
      }
    },
    {
      "cell_type": "code",
      "source": [
        "#Crear dos subconjuntos de datos separados para las facturas E y C\n",
        "fact_emitidas = fact[fact['STATUS'] == 'emitidas']\n",
        "fact_canceladas = fact[fact['STATUS'] == 'canceladas']\n",
        "#Agregar una columna adicional al dataframe q represente el año de la fecha\n",
        "fact['AÑO'] = fact['FECHA_DOC'].dt.year"
      ],
      "metadata": {
        "id": "c7PGaEtbEfx2"
      },
      "execution_count": null,
      "outputs": []
    },
    {
      "cell_type": "code",
      "source": [
        "g = sns.FacetGrid(data=fact, row='STATUS', col='AÑO', height=4)\n",
        "g.map(sns.histplot, 'CAN_TOT', kde=True)\n",
        "# Título del gráfico\n",
        "g.fig.suptitle('Histogramas de CAN_TOT por Status y Año')\n",
        "# Ajustar la disposición del gráfico\n",
        "plt.tight_layout()\n",
        "# Mostrar el gráfico\n",
        "plt.show()"
      ],
      "metadata": {
        "colab": {
          "base_uri": "https://localhost:8080/",
          "height": 539
        },
        "id": "IfxxAoh7Elc2",
        "outputId": "08e378db-5028-4684-cc8e-2c934c821b06"
      },
      "execution_count": null,
      "outputs": [
        {
          "output_type": "display_data",
          "data": {
            "text/plain": [
              "<Figure size 2000x800 with 10 Axes>"
            ],
            "image/png": "[encoded data removed]"
          },
          "metadata": {}
        }
      ]
    },
    {
      "cell_type": "markdown",
      "source": [
        "## **Mapa de Calor**\n",
        ">El objetivo de este mapa de calor es visualizar la matriz de correlación entre las variables \"CAN_TOT\" (monto total) y \"DES_TOT\" (descuento total) de las facturas.\n",
        "\n",
        ">La matriz de correlación muestra la relación estadística entre pares de variables. En este caso, el mapa de calor representa los coeficientes de correlación entre las variables seleccionadas. Los coeficientes de correlación varían entre -1 y 1, donde 1 indica una correlación positiva perfecta, -1 indica una correlación negativa perfecta y 0 indica la ausencia de correlación.\n",
        "\n",
        ">El mapa de calor utiliza colores para resaltar la fuerza y la dirección de la correlación entre las variables. En este caso, se utiliza la paleta de colores 'coolwarm', donde los tonos azules indican una correlación negativa, los tonos rojos indican una correlación positiva y los tonos más claros indican una correlación cercana a cero."
      ],
      "metadata": {
        "id": "_Jf5rW3FKGtE"
      }
    },
    {
      "cell_type": "code",
      "source": [
        "import pandas as pd\n",
        "import seaborn as sns\n",
        "import matplotlib.pyplot as plt\n",
        "# Selecciona las variables relevantes para el cálculo de la correlación\n",
        "variables = ['CAN_TOT', 'DES_TOT']\n",
        "fact_selected = fact[variables]\n",
        "# Calcula la matriz de correlación\n",
        "correlation_matrix = fact_selected.corr()\n",
        "# Crea un mapa de calor utilizando seaborn\n",
        "plt.figure(figsize=(8, 6))\n",
        "sns.heatmap(correlation_matrix, annot=True, cmap='coolwarm', linewidths=0.5)\n",
        "plt.title('Matriz de correlación')\n",
        "plt.show()"
      ],
      "metadata": {
        "colab": {
          "base_uri": "https://localhost:8080/",
          "height": 545
        },
        "id": "oMkrx6VFWNx4",
        "outputId": "5b751e2e-c53f-4732-fa5f-a3b76500499b"
      },
      "execution_count": null,
      "outputs": [
        {
          "output_type": "display_data",
          "data": {
            "text/plain": [
              "<Figure size 800x600 with 2 Axes>"
            ],
            "image/png": "[encoded data removed]"
          },
          "metadata": {}
        }
      ]
    }
  ]
}